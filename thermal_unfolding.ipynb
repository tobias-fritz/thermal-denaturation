{
 "cells": [
  {
   "attachments": {},
   "cell_type": "markdown",
   "metadata": {},
   "source": [
    "# Fitting thermal denaturation data\n",
    "\n",
    "Based on Consalvi et al.,Protein Engineering, 2000 and [this](https://github.com/eloyvallinaes/protein-physics-2022/blob/67d116063917e8a6a1fa7965dc36d79ffe8608e0/logisticModel.ipynb) notebook for fitting a simple logistic model to chemical denaturation data.<br>\n",
    "\n",
    "Here I show how to fit a sigmoidal denaturation curve, assuming a two-state equilibrium and the reversability of the process. For thermal denaturation the corresponding equation for the experimental signal S is given as, <p>\n",
    "\n",
    "$$S = \\frac{\\text{intercept}_A + \\text{slope}_A T + (\\text{intercept}_B + \\text{slope}_B T) \\exp[{\\frac{\\Delta H} {R} (\\frac{1}{T_m} - \\frac{1}{T})}]} {1 + \\exp[{\\frac{\\Delta H} {R} (\\frac{1}{T_m} - \\frac{1}{T})}]}.$$\n",
    "\n",
    "With the standard reaction enthalpy $\\Delta H$, midpoint temperature $T_m$, slopes of the baseline A and B and intercepts of the baseline A and B. For a detailed derivation have a look at e.g., Tim Sharpe, Biozentrum Basel 2012. Please note that the assumptions made here, often don't hold true when considering thermal denaturation of proteins and applying this model without proper consideration of the observed system can thus lead to misguiding results.\n"
   ]
  },
  {
   "cell_type": "code",
   "execution_count": 1,
   "metadata": {},
   "outputs": [],
   "source": [
    "import pandas as pd\n",
    "import numpy as np\n",
    "from scipy.optimize import least_squares\n",
    "import matplotlib.pyplot as plt\n",
    "import numpy as np\n",
    "import random"
   ]
  },
  {
   "attachments": {},
   "cell_type": "markdown",
   "metadata": {},
   "source": [
    "## Sample data\n",
    "\n",
    "First we need to create some sample data. I do this by randomly creating a reasonable denaturation curve for thermal denatured as could be measured e.g., by CD or IR spectroscopy. "
   ]
  },
  {
   "cell_type": "code",
   "execution_count": 2,
   "metadata": {},
   "outputs": [],
   "source": [
    "def sample_data(seed = 9470):\n",
    "\n",
    "    # Set a seed for reproducability\n",
    "    random.seed(seed)\n",
    "    np.random.seed(seed)\n",
    "    \n",
    "    t = np.linspace(293, 363, num=40)\n",
    "\n",
    "    # generate random parameters for sigmoidal\n",
    "    s_a = random.uniform(3,6)\n",
    "    m_a = random.uniform(-0.005,0)\n",
    "    s_b = random.uniform(3,6)\n",
    "    m_b = random.uniform(-0.005,0)\n",
    "    dH  = random.uniform(200000,400000)\n",
    "    t_m = random.uniform(317,327)\n",
    "\n",
    "    # generate the datapoints\n",
    "    y = (s_a +m_a * t + (s_b + m_b * t)*np.exp(-dH * (1/t_m -1/t)/8.314)) / (1+np.exp(-dH * (1/t_m -1/t)/8.314))\n",
    "    \n",
    "    # add some random noise\n",
    "    noise = np.random.normal(0, 0.15,len(y))\n",
    "\n",
    "    return y+noise\n"
   ]
  },
  {
   "attachments": {},
   "cell_type": "markdown",
   "metadata": {},
   "source": [
    "Lets have a look what our sample data would look like. We can see our midpoint Temperature at around 52 °C and two slanted baselines."
   ]
  },
  {
   "cell_type": "code",
   "execution_count": 3,
   "metadata": {},
   "outputs": [
    {
     "data": {
      "image/png": "[encoded data removed]",
      "text/plain": [
       "<Figure size 432x288 with 1 Axes>"
      ]
     },
     "metadata": {
      "needs_background": "light"
     },
     "output_type": "display_data"
    }
   ],
   "source": [
    "data = pd.DataFrame({'temperature / °C': np.linspace(20, 90, num=40),\n",
    "                     'temperature / K':np.linspace(293.15, 363.15, num=40), \n",
    "                     'signal':sample_data()}) \n",
    "\n",
    "data.plot.scatter('temperature / °C','signal');"
   ]
  },
  {
   "attachments": {},
   "cell_type": "markdown",
   "metadata": {},
   "source": [
    "It might be helpful to normalize this data to represent a fraction rather than the raw signal.\n"
   ]
  },
  {
   "cell_type": "code",
   "execution_count": 4,
   "metadata": {},
   "outputs": [
    {
     "data": {
      "image/png": "[encoded data removed]",
      "text/plain": [
       "<Figure size 432x288 with 1 Axes>"
      ]
     },
     "metadata": {
      "needs_background": "light"
     },
     "output_type": "display_data"
    }
   ],
   "source": [
    "normalize = lambda x: (x - x.min()) / (x.max() - x.min())\n",
    "data['fraction'] = data[['signal']].apply(normalize)\n",
    "\n",
    "data.plot.scatter('temperature / °C','fraction');"
   ]
  },
  {
   "attachments": {},
   "cell_type": "markdown",
   "metadata": {},
   "source": [
    "## Fitting\n",
    "In order to fit the equation described above, we start by defining our model and a loss function. Here I use the residual difference between experimental observation and prediction."
   ]
  },
  {
   "cell_type": "code",
   "execution_count": 5,
   "metadata": {},
   "outputs": [],
   "source": [
    "def model(t, param):\n",
    "\n",
    "    sa, ma, sb, mb, dH, tm = param\n",
    "    \n",
    "    return (sa +ma * t + (sb + mb * t)*np.exp(-dH * (1/tm -1/t)/8.314)) / (1+np.exp(-dH * (1/tm -1/t)/8.314))\n",
    "\n",
    "def loss_function(param,x,y):\n",
    "    # y - y_predicted\n",
    "    return y - model(x,param)"
   ]
  },
  {
   "attachments": {},
   "cell_type": "markdown",
   "metadata": {},
   "source": [
    "We now have to define initial parameters as a starting point for the fitting. Here it is important to get as good as possible in order to achive convergance. This is going to determine the quality of our results."
   ]
  },
  {
   "cell_type": "code",
   "execution_count": 6,
   "metadata": {},
   "outputs": [
    {
     "name": "stdout",
     "output_type": "stream",
     "text": [
      "   Iteration     Total nfev        Cost      Cost reduction    Step norm     Optimality   \n",
      "       0              1         7.8607e+01                                    1.40e+04    \n",
      "       1              2         1.6891e-02      7.86e+01       2.68e+04       1.72e+01    \n",
      "       2              3         1.6205e-02      6.86e-04       1.60e+04       7.16e-01    \n",
      "       3              4         1.6202e-02      2.44e-06       2.26e+03       8.66e-03    \n",
      "       4              5         1.6202e-02      1.37e-09       1.40e+01       1.43e-06    \n",
      "       5              6         1.6202e-02      1.08e-12       1.91e+00       1.06e-08    \n",
      "`ftol` termination condition is satisfied.\n",
      "Function evaluations 6, initial cost 7.8607e+01, final cost 1.6202e-02, first-order optimality 1.06e-08.\n"
     ]
    }
   ],
   "source": [
    "# initial parameters\n",
    "param = [ 3, -0.003, 4,  -0.003, 4e+05, 325]\n",
    "\n",
    "# least squares optimizer\n",
    "lsq = least_squares(loss_function, param, args=(data['temperature / K'], data['fraction']), verbose=2)"
   ]
  },
  {
   "cell_type": "code",
   "execution_count": 7,
   "metadata": {},
   "outputs": [
    {
     "name": "stdout",
     "output_type": "stream",
     "text": [
      "final parameters: [0.9413, -0.0025, 0.992, -0.0001, 391478.274, 326.0435]\n"
     ]
    }
   ],
   "source": [
    "# save the fit in the dataframe\n",
    "data['fit'] = data['temperature / K'].apply(model,param = lsq.x)\n",
    "print(f'final parameters: {[round(x,4) for x in list(lsq.x)]}')"
   ]
  },
  {
   "attachments": {},
   "cell_type": "markdown",
   "metadata": {},
   "source": [
    "These final parameters can now be passed to our model so we can visualy examine the fit,"
   ]
  },
  {
   "cell_type": "code",
   "execution_count": 8,
   "metadata": {},
   "outputs": [
    {
     "data": {
      "image/png": "[encoded data removed]",
      "text/plain": [
       "<Figure size 432x288 with 1 Axes>"
      ]
     },
     "metadata": {
      "needs_background": "light"
     },
     "output_type": "display_data"
    }
   ],
   "source": [
    "ax = data.plot.scatter('temperature / °C','fraction', color = 'red', label = 'DATA')\n",
    "data.plot('temperature / °C', 'fit', color = 'k',label='FIT', ax=ax);\n",
    "\n",
    "print(f\"Midpoint temperature: {round(lsq.x[5],2)} K\")\n",
    "print(f\"Enthalpy: {round(lsq.x[4],2)} J/mol\")"
   ]
  },
  {
   "cell_type": "markdown",
   "metadata": {},
   "source": [
    "## Now lets do it with your data!\n",
    "Just add your fule name and make sure that column names match the ones used here (or change them in the notebook)"
   ]
  },
  {
   "cell_type": "code",
   "execution_count": null,
   "metadata": {},
   "outputs": [],
   "source": [
    "# Add your file and fit your data\n",
    "YOUR_FILENAME = 'data.csv'\n",
    "\n",
    "# Load the data\n",
    "try: \n",
    "    data = pd.read_csv(YOUR_FILENAME)\n",
    "except:\n",
    "    data = None\n",
    "    print('No data file found')\n",
    "\n",
    "if data:\n",
    "    # Normalize the data\n",
    "    data['fraction'] = data[['signal']].apply(normalize)\n",
    "\n",
    "    # initial parameters\n",
    "    param = [ 3, -0.003, 4,  -0.003, 4e+05, 325]\n",
    "\n",
    "    # least squares optimizer\n",
    "    lsq = least_squares(loss_function, param, args=(data['temperature / K'], data['fraction']), verbose=2)\n",
    "\n",
    "    # save the fit in the dataframe\n",
    "    data['fit'] = data['temperature / K'].apply(model,param = lsq.x)\n",
    "\n",
    "    # Plot the data and the fit\n",
    "    ax = data.plot.scatter('temperature / °C','fraction', color = 'red', label = 'DATA')\n",
    "    data.plot('temperature / °C', 'fit', color = 'k',label='FIT', ax=ax);\n",
    "\n",
    "    # Print the enthalpy and midpoint temperature\n",
    "    print(f'Enthalpy: {lsq.x[4]} J/mol')\n",
    "    print(f'Midpoint temperature: {lsq.x[5]} K')"
   ]
  }
 ],
 "metadata": {
  "kernelspec": {
   "display_name": "Python 3",
   "language": "python",
   "name": "python3"
  },
  "language_info": {
   "codemirror_mode": {
    "name": "ipython",
    "version": 3
   },
   "file_extension": ".py",
   "mimetype": "text/x-python",
   "name": "python",
   "nbconvert_exporter": "python",
   "pygments_lexer": "ipython3",
   "version": "3.9.10"
  },
  "orig_nbformat": 4,
  "vscode": {
   "interpreter": {
    "hash": "dfcaecdf05f5dee60e4059109da00163655215d8c7e487a25e7e0f2fbe9c6bb5"
   }
  }
 },
 "nbformat": 4,
 "nbformat_minor": 2
}
